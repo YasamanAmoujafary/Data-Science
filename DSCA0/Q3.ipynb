{
 "cells": [
  {
   "cell_type": "markdown",
   "metadata": {},
   "source": [
    "# Q3:\n"
   ]
  },
  {
   "cell_type": "code",
   "execution_count": 76,
   "metadata": {},
   "outputs": [],
   "source": [
    "import pandas as pd\n",
    "import numpy as np\n",
    "import matplotlib.pyplot as plt"
   ]
  },
  {
   "cell_type": "markdown",
   "metadata": {},
   "source": [
    "## part one:"
   ]
  },
  {
   "cell_type": "code",
   "execution_count": 77,
   "metadata": {},
   "outputs": [
    {
     "data": {
      "text/html": [
       "<div>\n",
       "<style scoped>\n",
       "    .dataframe tbody tr th:only-of-type {\n",
       "        vertical-align: middle;\n",
       "    }\n",
       "\n",
       "    .dataframe tbody tr th {\n",
       "        vertical-align: top;\n",
       "    }\n",
       "\n",
       "    .dataframe thead th {\n",
       "        text-align: right;\n",
       "    }\n",
       "</style>\n",
       "<table border=\"1\" class=\"dataframe\">\n",
       "  <thead>\n",
       "    <tr style=\"text-align: right;\">\n",
       "      <th></th>\n",
       "      <th>age</th>\n",
       "      <th>sex</th>\n",
       "      <th>trx</th>\n",
       "      <th>week</th>\n",
       "      <th>wbc</th>\n",
       "      <th>rbc</th>\n",
       "      <th>adverse_effects</th>\n",
       "      <th>num_effects</th>\n",
       "    </tr>\n",
       "  </thead>\n",
       "  <tbody>\n",
       "    <tr>\n",
       "      <th>0</th>\n",
       "      <td>62</td>\n",
       "      <td>male</td>\n",
       "      <td>Drug</td>\n",
       "      <td>0</td>\n",
       "      <td>7.3</td>\n",
       "      <td>5.1</td>\n",
       "      <td>No</td>\n",
       "      <td>0</td>\n",
       "    </tr>\n",
       "    <tr>\n",
       "      <th>1</th>\n",
       "      <td>62</td>\n",
       "      <td>male</td>\n",
       "      <td>Drug</td>\n",
       "      <td>1</td>\n",
       "      <td>NaN</td>\n",
       "      <td>NaN</td>\n",
       "      <td>No</td>\n",
       "      <td>0</td>\n",
       "    </tr>\n",
       "    <tr>\n",
       "      <th>2</th>\n",
       "      <td>62</td>\n",
       "      <td>male</td>\n",
       "      <td>Drug</td>\n",
       "      <td>12</td>\n",
       "      <td>5.6</td>\n",
       "      <td>5.0</td>\n",
       "      <td>No</td>\n",
       "      <td>0</td>\n",
       "    </tr>\n",
       "    <tr>\n",
       "      <th>3</th>\n",
       "      <td>62</td>\n",
       "      <td>male</td>\n",
       "      <td>Drug</td>\n",
       "      <td>16</td>\n",
       "      <td>NaN</td>\n",
       "      <td>NaN</td>\n",
       "      <td>No</td>\n",
       "      <td>0</td>\n",
       "    </tr>\n",
       "    <tr>\n",
       "      <th>4</th>\n",
       "      <td>62</td>\n",
       "      <td>male</td>\n",
       "      <td>Drug</td>\n",
       "      <td>2</td>\n",
       "      <td>6.6</td>\n",
       "      <td>5.1</td>\n",
       "      <td>No</td>\n",
       "      <td>0</td>\n",
       "    </tr>\n",
       "  </tbody>\n",
       "</table>\n",
       "</div>"
      ],
      "text/plain": [
       "   age   sex   trx  week  wbc  rbc adverse_effects  num_effects\n",
       "0   62  male  Drug     0  7.3  5.1              No            0\n",
       "1   62  male  Drug     1  NaN  NaN              No            0\n",
       "2   62  male  Drug    12  5.6  5.0              No            0\n",
       "3   62  male  Drug    16  NaN  NaN              No            0\n",
       "4   62  male  Drug     2  6.6  5.1              No            0"
      ]
     },
     "execution_count": 77,
     "metadata": {},
     "output_type": "execute_result"
    }
   ],
   "source": [
    "drug_file_path = \"drug_safety.csv\"\n",
    "drug_df = pd.read_csv(drug_file_path)\n",
    "\n",
    "drug_df.head()\n"
   ]
  },
  {
   "cell_type": "code",
   "execution_count": 78,
   "metadata": {},
   "outputs": [
    {
     "data": {
      "text/html": [
       "<div>\n",
       "<style scoped>\n",
       "    .dataframe tbody tr th:only-of-type {\n",
       "        vertical-align: middle;\n",
       "    }\n",
       "\n",
       "    .dataframe tbody tr th {\n",
       "        vertical-align: top;\n",
       "    }\n",
       "\n",
       "    .dataframe thead th {\n",
       "        text-align: right;\n",
       "    }\n",
       "</style>\n",
       "<table border=\"1\" class=\"dataframe\">\n",
       "  <thead>\n",
       "    <tr style=\"text-align: right;\">\n",
       "      <th></th>\n",
       "      <th>age</th>\n",
       "      <th>sex</th>\n",
       "      <th>trx</th>\n",
       "      <th>week</th>\n",
       "      <th>wbc</th>\n",
       "      <th>rbc</th>\n",
       "      <th>adverse_effects</th>\n",
       "      <th>num_effects</th>\n",
       "    </tr>\n",
       "  </thead>\n",
       "  <tbody>\n",
       "    <tr>\n",
       "      <th>16098</th>\n",
       "      <td>78</td>\n",
       "      <td>male</td>\n",
       "      <td>Placebo</td>\n",
       "      <td>16</td>\n",
       "      <td>NaN</td>\n",
       "      <td>NaN</td>\n",
       "      <td>Yes</td>\n",
       "      <td>1</td>\n",
       "    </tr>\n",
       "    <tr>\n",
       "      <th>16099</th>\n",
       "      <td>78</td>\n",
       "      <td>male</td>\n",
       "      <td>Placebo</td>\n",
       "      <td>2</td>\n",
       "      <td>7.5</td>\n",
       "      <td>4.9</td>\n",
       "      <td>No</td>\n",
       "      <td>0</td>\n",
       "    </tr>\n",
       "    <tr>\n",
       "      <th>16100</th>\n",
       "      <td>78</td>\n",
       "      <td>male</td>\n",
       "      <td>Placebo</td>\n",
       "      <td>20</td>\n",
       "      <td>NaN</td>\n",
       "      <td>NaN</td>\n",
       "      <td>Yes</td>\n",
       "      <td>1</td>\n",
       "    </tr>\n",
       "    <tr>\n",
       "      <th>16101</th>\n",
       "      <td>78</td>\n",
       "      <td>male</td>\n",
       "      <td>Placebo</td>\n",
       "      <td>4</td>\n",
       "      <td>6.4</td>\n",
       "      <td>4.8</td>\n",
       "      <td>No</td>\n",
       "      <td>0</td>\n",
       "    </tr>\n",
       "    <tr>\n",
       "      <th>16102</th>\n",
       "      <td>78</td>\n",
       "      <td>male</td>\n",
       "      <td>Placebo</td>\n",
       "      <td>8</td>\n",
       "      <td>7.8</td>\n",
       "      <td>4.8</td>\n",
       "      <td>No</td>\n",
       "      <td>0</td>\n",
       "    </tr>\n",
       "  </tbody>\n",
       "</table>\n",
       "</div>"
      ],
      "text/plain": [
       "       age   sex      trx  week  wbc  rbc adverse_effects  num_effects\n",
       "16098   78  male  Placebo    16  NaN  NaN             Yes            1\n",
       "16099   78  male  Placebo     2  7.5  4.9              No            0\n",
       "16100   78  male  Placebo    20  NaN  NaN             Yes            1\n",
       "16101   78  male  Placebo     4  6.4  4.8              No            0\n",
       "16102   78  male  Placebo     8  7.8  4.8              No            0"
      ]
     },
     "execution_count": 78,
     "metadata": {},
     "output_type": "execute_result"
    }
   ],
   "source": [
    "drug_df.tail()"
   ]
  },
  {
   "cell_type": "markdown",
   "metadata": {},
   "source": [
    "## part two:"
   ]
  },
  {
   "cell_type": "code",
   "execution_count": 79,
   "metadata": {},
   "outputs": [
    {
     "data": {
      "text/plain": [
       "age                   0\n",
       "sex                   0\n",
       "trx                   0\n",
       "week                  0\n",
       "wbc                6975\n",
       "rbc                6976\n",
       "adverse_effects       0\n",
       "num_effects           0\n",
       "dtype: int64"
      ]
     },
     "execution_count": 79,
     "metadata": {},
     "output_type": "execute_result"
    }
   ],
   "source": [
    "drug_df.isna().sum()"
   ]
  },
  {
   "cell_type": "code",
   "execution_count": 80,
   "metadata": {},
   "outputs": [
    {
     "name": "stdout",
     "output_type": "stream",
     "text": [
      "Percentage of missing values per column:\n",
      "age                 0.00000\n",
      "sex                 0.00000\n",
      "trx                 0.00000\n",
      "week                0.00000\n",
      "wbc                43.31491\n",
      "rbc                43.32112\n",
      "adverse_effects     0.00000\n",
      "num_effects         0.00000\n",
      "dtype: float64\n"
     ]
    }
   ],
   "source": [
    "missing_percentage = (drug_df.isna().sum() / len(drug_df)) * 100\n",
    "print(\"Percentage of missing values per column:\")\n",
    "print(missing_percentage)"
   ]
  },
  {
   "cell_type": "code",
   "execution_count": 81,
   "metadata": {},
   "outputs": [
    {
     "data": {
      "image/png": "[encoded data removed]",
      "text/plain": [
       "<Figure size 800x400 with 2 Axes>"
      ]
     },
     "metadata": {},
     "output_type": "display_data"
    }
   ],
   "source": [
    "import seaborn as sns\n",
    "\n",
    "sns.set(style=\"whitegrid\")\n",
    "\n",
    "plt.figure(figsize=(8, 4))\n",
    "\n",
    "plt.subplot(1, 2, 1)\n",
    "sns.histplot(drug_df['wbc'].dropna(), kde=True, color='blue', bins=30, edgecolor='black')\n",
    "plt.title('Distribution of WBC with KDE')\n",
    "plt.xlabel('WBC')\n",
    "plt.ylabel('Frequency')\n",
    "\n",
    "plt.subplot(1, 2, 2)\n",
    "sns.histplot(drug_df['rbc'].dropna(), kde=True, color='green', bins=30, edgecolor='black')\n",
    "plt.title('Distribution of RBC with KDE')\n",
    "plt.xlabel('RBC')\n",
    "plt.ylabel('Frequency')\n",
    "\n",
    "plt.tight_layout()\n",
    "plt.show()"
   ]
  },
  {
   "cell_type": "code",
   "execution_count": 82,
   "metadata": {},
   "outputs": [
    {
     "name": "stdout",
     "output_type": "stream",
     "text": [
      "Skewness of WBC: 1.2609293914144093\n",
      "Skewness of RBC: 0.14679504482474087\n"
     ]
    }
   ],
   "source": [
    "wbc_skewness = drug_df['wbc'].skew()\n",
    "rbc_skewness = drug_df['rbc'].skew()\n",
    "print(f\"Skewness of WBC: {wbc_skewness}\")\n",
    "print(f\"Skewness of RBC: {rbc_skewness}\")"
   ]
  },
  {
   "cell_type": "markdown",
   "metadata": {},
   "source": [
    "from the result above we can understand that the rbc is more likely like a normal distribution but wbc is a right-skewed distribution but because we have medical dataset it is not a good idea to fill the Null values with mean and median so we drop the rows that have a NaN value."
   ]
  },
  {
   "cell_type": "code",
   "execution_count": 83,
   "metadata": {},
   "outputs": [
    {
     "data": {
      "text/plain": [
       "age                0\n",
       "sex                0\n",
       "trx                0\n",
       "week               0\n",
       "wbc                0\n",
       "rbc                0\n",
       "adverse_effects    0\n",
       "num_effects        0\n",
       "dtype: int64"
      ]
     },
     "execution_count": 83,
     "metadata": {},
     "output_type": "execute_result"
    }
   ],
   "source": [
    "drug_df = drug_df.dropna()\n",
    "drug_df.isna().sum()"
   ]
  },
  {
   "cell_type": "code",
   "execution_count": 84,
   "metadata": {},
   "outputs": [
    {
     "data": {
      "text/plain": [
       "9127"
      ]
     },
     "execution_count": 84,
     "metadata": {},
     "output_type": "execute_result"
    }
   ],
   "source": [
    "len(drug_df)"
   ]
  },
  {
   "cell_type": "markdown",
   "metadata": {},
   "source": [
    "we still have 9,127 rows of data after dropping missing values, so definitely we have enough data for the Central Limit Theorem (CLT) to apply."
   ]
  },
  {
   "cell_type": "markdown",
   "metadata": {},
   "source": [
    "still we have enough data to have the CLT "
   ]
  },
  {
   "cell_type": "markdown",
   "metadata": {},
   "source": [
    "## part three:"
   ]
  },
  {
   "cell_type": "code",
   "execution_count": 85,
   "metadata": {},
   "outputs": [
    {
     "data": {
      "text/html": [
       "<div>\n",
       "<style scoped>\n",
       "    .dataframe tbody tr th:only-of-type {\n",
       "        vertical-align: middle;\n",
       "    }\n",
       "\n",
       "    .dataframe tbody tr th {\n",
       "        vertical-align: top;\n",
       "    }\n",
       "\n",
       "    .dataframe thead th {\n",
       "        text-align: right;\n",
       "    }\n",
       "</style>\n",
       "<table border=\"1\" class=\"dataframe\">\n",
       "  <thead>\n",
       "    <tr style=\"text-align: right;\">\n",
       "      <th></th>\n",
       "      <th>age</th>\n",
       "      <th>week</th>\n",
       "      <th>wbc</th>\n",
       "      <th>rbc</th>\n",
       "      <th>num_effects</th>\n",
       "    </tr>\n",
       "  </thead>\n",
       "  <tbody>\n",
       "    <tr>\n",
       "      <th>count</th>\n",
       "      <td>9127.000000</td>\n",
       "      <td>9127.000000</td>\n",
       "      <td>9127.000000</td>\n",
       "      <td>9127.000000</td>\n",
       "      <td>9127.000000</td>\n",
       "    </tr>\n",
       "    <tr>\n",
       "      <th>mean</th>\n",
       "      <td>64.007670</td>\n",
       "      <td>4.985428</td>\n",
       "      <td>7.340331</td>\n",
       "      <td>4.672784</td>\n",
       "      <td>0.100800</td>\n",
       "    </tr>\n",
       "    <tr>\n",
       "      <th>std</th>\n",
       "      <td>8.847711</td>\n",
       "      <td>4.375397</td>\n",
       "      <td>1.996645</td>\n",
       "      <td>0.458520</td>\n",
       "      <td>0.322178</td>\n",
       "    </tr>\n",
       "    <tr>\n",
       "      <th>min</th>\n",
       "      <td>39.000000</td>\n",
       "      <td>0.000000</td>\n",
       "      <td>1.800000</td>\n",
       "      <td>2.100000</td>\n",
       "      <td>0.000000</td>\n",
       "    </tr>\n",
       "    <tr>\n",
       "      <th>25%</th>\n",
       "      <td>58.000000</td>\n",
       "      <td>2.000000</td>\n",
       "      <td>6.000000</td>\n",
       "      <td>4.400000</td>\n",
       "      <td>0.000000</td>\n",
       "    </tr>\n",
       "    <tr>\n",
       "      <th>50%</th>\n",
       "      <td>65.000000</td>\n",
       "      <td>4.000000</td>\n",
       "      <td>7.100000</td>\n",
       "      <td>4.700000</td>\n",
       "      <td>0.000000</td>\n",
       "    </tr>\n",
       "    <tr>\n",
       "      <th>75%</th>\n",
       "      <td>71.000000</td>\n",
       "      <td>8.000000</td>\n",
       "      <td>8.400000</td>\n",
       "      <td>5.000000</td>\n",
       "      <td>0.000000</td>\n",
       "    </tr>\n",
       "    <tr>\n",
       "      <th>max</th>\n",
       "      <td>84.000000</td>\n",
       "      <td>20.000000</td>\n",
       "      <td>26.500000</td>\n",
       "      <td>7.600000</td>\n",
       "      <td>3.000000</td>\n",
       "    </tr>\n",
       "  </tbody>\n",
       "</table>\n",
       "</div>"
      ],
      "text/plain": [
       "               age         week          wbc          rbc  num_effects\n",
       "count  9127.000000  9127.000000  9127.000000  9127.000000  9127.000000\n",
       "mean     64.007670     4.985428     7.340331     4.672784     0.100800\n",
       "std       8.847711     4.375397     1.996645     0.458520     0.322178\n",
       "min      39.000000     0.000000     1.800000     2.100000     0.000000\n",
       "25%      58.000000     2.000000     6.000000     4.400000     0.000000\n",
       "50%      65.000000     4.000000     7.100000     4.700000     0.000000\n",
       "75%      71.000000     8.000000     8.400000     5.000000     0.000000\n",
       "max      84.000000    20.000000    26.500000     7.600000     3.000000"
      ]
     },
     "execution_count": 85,
     "metadata": {},
     "output_type": "execute_result"
    }
   ],
   "source": [
    "drug_df.describe()"
   ]
  },
  {
   "cell_type": "markdown",
   "metadata": {},
   "source": [
    "## part four:"
   ]
  },
  {
   "cell_type": "code",
   "execution_count": 86,
   "metadata": {},
   "outputs": [
    {
     "data": {
      "text/html": [
       "<div>\n",
       "<style scoped>\n",
       "    .dataframe tbody tr th:only-of-type {\n",
       "        vertical-align: middle;\n",
       "    }\n",
       "\n",
       "    .dataframe tbody tr th {\n",
       "        vertical-align: top;\n",
       "    }\n",
       "\n",
       "    .dataframe thead tr th {\n",
       "        text-align: left;\n",
       "    }\n",
       "\n",
       "    .dataframe thead tr:last-of-type th {\n",
       "        text-align: right;\n",
       "    }\n",
       "</style>\n",
       "<table border=\"1\" class=\"dataframe\">\n",
       "  <thead>\n",
       "    <tr>\n",
       "      <th></th>\n",
       "      <th colspan=\"5\" halign=\"left\">wbc</th>\n",
       "      <th colspan=\"5\" halign=\"left\">rbc</th>\n",
       "      <th colspan=\"5\" halign=\"left\">num_effects</th>\n",
       "    </tr>\n",
       "    <tr>\n",
       "      <th></th>\n",
       "      <th>mean</th>\n",
       "      <th>std</th>\n",
       "      <th>count</th>\n",
       "      <th>min</th>\n",
       "      <th>max</th>\n",
       "      <th>mean</th>\n",
       "      <th>std</th>\n",
       "      <th>count</th>\n",
       "      <th>min</th>\n",
       "      <th>max</th>\n",
       "      <th>mean</th>\n",
       "      <th>std</th>\n",
       "      <th>count</th>\n",
       "      <th>min</th>\n",
       "      <th>max</th>\n",
       "    </tr>\n",
       "    <tr>\n",
       "      <th>trx</th>\n",
       "      <th></th>\n",
       "      <th></th>\n",
       "      <th></th>\n",
       "      <th></th>\n",
       "      <th></th>\n",
       "      <th></th>\n",
       "      <th></th>\n",
       "      <th></th>\n",
       "      <th></th>\n",
       "      <th></th>\n",
       "      <th></th>\n",
       "      <th></th>\n",
       "      <th></th>\n",
       "      <th></th>\n",
       "      <th></th>\n",
       "    </tr>\n",
       "  </thead>\n",
       "  <tbody>\n",
       "    <tr>\n",
       "      <th>Drug</th>\n",
       "      <td>7.330461</td>\n",
       "      <td>2.008941</td>\n",
       "      <td>6011</td>\n",
       "      <td>1.8</td>\n",
       "      <td>26.500000</td>\n",
       "      <td>4.679130</td>\n",
       "      <td>0.454990</td>\n",
       "      <td>6011</td>\n",
       "      <td>2.7</td>\n",
       "      <td>7.5</td>\n",
       "      <td>0.102479</td>\n",
       "      <td>0.325529</td>\n",
       "      <td>6011</td>\n",
       "      <td>0</td>\n",
       "      <td>3</td>\n",
       "    </tr>\n",
       "    <tr>\n",
       "      <th>Placebo</th>\n",
       "      <td>7.359371</td>\n",
       "      <td>1.972890</td>\n",
       "      <td>3116</td>\n",
       "      <td>3.0</td>\n",
       "      <td>23.799999</td>\n",
       "      <td>4.660542</td>\n",
       "      <td>0.465083</td>\n",
       "      <td>3116</td>\n",
       "      <td>2.1</td>\n",
       "      <td>7.6</td>\n",
       "      <td>0.097561</td>\n",
       "      <td>0.315639</td>\n",
       "      <td>3116</td>\n",
       "      <td>0</td>\n",
       "      <td>3</td>\n",
       "    </tr>\n",
       "  </tbody>\n",
       "</table>\n",
       "</div>"
      ],
      "text/plain": [
       "              wbc                                       rbc                  \\\n",
       "             mean       std count  min        max      mean       std count   \n",
       "trx                                                                           \n",
       "Drug     7.330461  2.008941  6011  1.8  26.500000  4.679130  0.454990  6011   \n",
       "Placebo  7.359371  1.972890  3116  3.0  23.799999  4.660542  0.465083  3116   \n",
       "\n",
       "                  num_effects                          \n",
       "         min  max        mean       std count min max  \n",
       "trx                                                    \n",
       "Drug     2.7  7.5    0.102479  0.325529  6011   0   3  \n",
       "Placebo  2.1  7.6    0.097561  0.315639  3116   0   3  "
      ]
     },
     "execution_count": 86,
     "metadata": {},
     "output_type": "execute_result"
    }
   ],
   "source": [
    "grouped_features = ['wbc', 'rbc', 'num_effects']\n",
    "statistic_funcs = ['mean', 'std', 'count','min', 'max']\n",
    "df_grouped = drug_df.groupby('trx')[grouped_features].agg(statistic_funcs)\n",
    "df_grouped"
   ]
  },
  {
   "cell_type": "markdown",
   "metadata": {},
   "source": [
    "## part five:"
   ]
  },
  {
   "cell_type": "code",
   "execution_count": 87,
   "metadata": {},
   "outputs": [
    {
     "data": {
      "text/plain": [
       "adverse_effects\n",
       "No     8263\n",
       "Yes     864\n",
       "Name: count, dtype: int64"
      ]
     },
     "execution_count": 87,
     "metadata": {},
     "output_type": "execute_result"
    }
   ],
   "source": [
    "drug_df['adverse_effects'].value_counts()"
   ]
  },
  {
   "cell_type": "code",
   "execution_count": 88,
   "metadata": {},
   "outputs": [
    {
     "data": {
      "text/plain": [
       "adverse_effects\n",
       "0    8263\n",
       "1     864\n",
       "Name: count, dtype: int64"
      ]
     },
     "execution_count": 88,
     "metadata": {},
     "output_type": "execute_result"
    }
   ],
   "source": [
    "drug_df['adverse_effects'] = drug_df['adverse_effects'].map({'Yes':1, 'No':0})\n",
    "drug_df['adverse_effects'].value_counts()"
   ]
  },
  {
   "cell_type": "code",
   "execution_count": 89,
   "metadata": {},
   "outputs": [
    {
     "data": {
      "text/plain": [
       "0.09466418319272488"
      ]
     },
     "execution_count": 89,
     "metadata": {},
     "output_type": "execute_result"
    }
   ],
   "source": [
    "drug_df['adverse_effects'].mean()"
   ]
  },
  {
   "cell_type": "markdown",
   "metadata": {},
   "source": [
    "## part six:"
   ]
  },
  {
   "cell_type": "markdown",
   "metadata": {},
   "source": [
    "### **How Hypothesis Testing Works**\n",
    "\n",
    "In hypothesis testing, we compare two groups (e.g., Drug vs. Placebo) to determine if there is a statistically significant difference between them. The process involves:\n",
    "\n",
    "1. **Null Hypothesis (\\(H_0\\))**:\n",
    "   - Assumes **no significant difference** between the groups.\n",
    "   - Mathematically:\n",
    "     $$\n",
    "     H_0: \\mu_{\\text{Drug}} - \\mu_{\\text{Placebo}} = 0\n",
    "     $$\n",
    "\n",
    "2. **Alternative Hypothesis (\\(H_1\\))**:\n",
    "   - Assumes **there is a significant difference** between the groups.\n",
    "   - Mathematically:\n",
    "     $$\n",
    "     H_1: \\mu_{\\text{Drug}} - \\mu_{\\text{Placebo}} \\neq 0\n",
    "     $$\n",
    "\n",
    "3. **Test Statistic**:\n",
    "   - Measures the difference between group means relative to variability.\n",
    "\n",
    "4. **p-value**:\n",
    "   - Probability of observing the test statistic (or more extreme) if $(H_0)$ is true.\n",
    "   - If $(p < 0.alpha)$, reject $(H_0)$; otherwise, fail to reject $(H_0)$.\n",
    "\n",
    "---"
   ]
  },
  {
   "cell_type": "markdown",
   "metadata": {},
   "source": [
    "### a. mean white blood cell count"
   ]
  },
  {
   "cell_type": "code",
   "execution_count": 90,
   "metadata": {},
   "outputs": [
    {
     "name": "stdout",
     "output_type": "stream",
     "text": [
      "WBC results:\n",
      "t-statistic:  -0.6596884009910975\n",
      "p-value:  0.5094775322580585\n",
      "Fail to reject the null hypothesis(alpha = 0.05): No significant difference in mean WBC between Drug and Placebo groups.\n",
      "Fail to reject the null hypothesis(alpha = 0.1): No significant difference in mean WBC between Drug and Placebo groups.\n"
     ]
    }
   ],
   "source": [
    "from scipy.stats import ttest_ind\n",
    "\n",
    "wbc_drug = drug_df[drug_df['trx'] == 'Drug']['wbc']\n",
    "wbc_placebo = drug_df[drug_df['trx'] == 'Placebo']['wbc']\n",
    "\n",
    "t_stat, p_value = ttest_ind(wbc_drug, wbc_placebo, equal_var=False, alternative='two-sided')\n",
    "\n",
    "alpha_1 = 0.05\n",
    "alpha_2 = 0.1\n",
    "\n",
    "print(\"WBC results:\")\n",
    "print(\"t-statistic: \", t_stat)\n",
    "print(\"p-value: \", p_value)\n",
    "\n",
    "if p_value < alpha_1:\n",
    "    print(f\"Reject the null hypothesis(alpha = {alpha_1}): There is a significant difference in mean WBC between Drug and Placebo groups.\")\n",
    "else:\n",
    "    print(f\"Fail to reject the null hypothesis(alpha = {alpha_1}): No significant difference in mean WBC between Drug and Placebo groups.\")\n",
    "\n",
    "\n",
    "if p_value < alpha_2:\n",
    "    print(f\"Reject the null hypothesis(alpha = {alpha_2}): There is a significant difference in mean WBC between Drug and Placebo groups.\")\n",
    "else:\n",
    "    print(f\"Fail to reject the null hypothesis(alpha = {alpha_2}): No significant difference in mean WBC between Drug and Placebo groups.\")"
   ]
  },
  {
   "cell_type": "markdown",
   "metadata": {},
   "source": [
    "### b.mean red blood cell count"
   ]
  },
  {
   "cell_type": "code",
   "execution_count": 91,
   "metadata": {},
   "outputs": [
    {
     "name": "stdout",
     "output_type": "stream",
     "text": [
      "RBC results:\n",
      "t-statistic:  1.8239231444207347\n",
      "p-value:  0.06821193346979416\n",
      "Fail to reject the null hypothesis(alpha = 0.05): No significant difference in mean RBC between Drug and Placebo groups.\n",
      "Reject the null hypothesis(alpha = 0.1): There is a significant difference in mean RBC between Drug and Placebo groups.\n"
     ]
    }
   ],
   "source": [
    "rbc_drug = drug_df[drug_df['trx'] == 'Drug']['rbc']\n",
    "rbc_placebo = drug_df[drug_df['trx'] == 'Placebo']['rbc']\n",
    "\n",
    "t_stat, p_value = ttest_ind(rbc_drug, rbc_placebo, equal_var=False, alternative='two-sided')\n",
    "\n",
    "alpha_1 = 0.05\n",
    "alpha_2 = 0.1\n",
    "\n",
    "print(\"RBC results:\")\n",
    "print(\"t-statistic: \", t_stat)\n",
    "print(\"p-value: \", p_value)\n",
    "\n",
    "if p_value < alpha_1:\n",
    "    print(f\"Reject the null hypothesis(alpha = {alpha_1}): There is a significant difference in mean RBC between Drug and Placebo groups.\")\n",
    "else:\n",
    "    print(f\"Fail to reject the null hypothesis(alpha = {alpha_1}): No significant difference in mean RBC between Drug and Placebo groups.\")\n",
    "\n",
    "\n",
    "if p_value < alpha_2:\n",
    "    print(f\"Reject the null hypothesis(alpha = {alpha_2}): There is a significant difference in mean RBC between Drug and Placebo groups.\")\n",
    "else:\n",
    "    print(f\"Fail to reject the null hypothesis(alpha = {alpha_2}): No significant difference in mean RBC between Drug and Placebo groups.\")"
   ]
  },
  {
   "cell_type": "markdown",
   "metadata": {},
   "source": [
    "### c. mean num effects"
   ]
  },
  {
   "cell_type": "code",
   "execution_count": 92,
   "metadata": {},
   "outputs": [
    {
     "name": "stdout",
     "output_type": "stream",
     "text": [
      "Num Effects results:\n",
      "t-statistic:  0.6982668655753146\n",
      "p-value:  0.48503538645811195\n",
      "Fail to reject the null hypothesis(alpha = 0.05): No significant difference in mean Num Effects between Drug and Placebo groups.\n",
      "Fail to reject the null hypothesis(alpha = 0.1): No significant difference in mean Num Effects between Drug and Placebo groups.\n"
     ]
    }
   ],
   "source": [
    "num_effects_drug = drug_df[drug_df['trx'] == 'Drug']['num_effects']\n",
    "num_effects_placebo = drug_df[drug_df['trx'] == 'Placebo']['num_effects']\n",
    "\n",
    "t_stat, p_value = ttest_ind(num_effects_drug, num_effects_placebo, equal_var=False, alternative='two-sided')\n",
    "\n",
    "alpha_1 = 0.05\n",
    "alpha_2 = 0.1\n",
    "\n",
    "print(\"Num Effects results:\")\n",
    "print(\"t-statistic: \", t_stat)\n",
    "print(\"p-value: \", p_value)\n",
    "\n",
    "if p_value < alpha_1:\n",
    "    print(f\"Reject the null hypothesis(alpha = {alpha_1}): There is a significant difference in mean Num Effects between Drug and Placebo groups.\")\n",
    "else:\n",
    "    print(f\"Fail to reject the null hypothesis(alpha = {alpha_1}): No significant difference in mean Num Effects between Drug and Placebo groups.\")\n",
    "\n",
    "\n",
    "if p_value < alpha_2:\n",
    "    print(f\"Reject the null hypothesis(alpha = {alpha_2}): There is a significant difference in mean Num Effects between Drug and Placebo groups.\")\n",
    "else:\n",
    "    print(f\"Fail to reject the null hypothesis(alpha = {alpha_2}): No significant difference in mean Num Effects between Drug and Placebo groups.\")"
   ]
  },
  {
   "cell_type": "markdown",
   "metadata": {},
   "source": [
    "### d. mean adverse effect"
   ]
  },
  {
   "cell_type": "code",
   "execution_count": 93,
   "metadata": {},
   "outputs": [
    {
     "name": "stdout",
     "output_type": "stream",
     "text": [
      "Adverse Effects results:\n",
      "t-statistic:  0.6047130244978415\n",
      "p-value:  0.54539110892564\n",
      "Fail to reject the null hypothesis(alpha = 0.05): No significant difference in mean Adverse Effects between Drug and Placebo groups.\n",
      "Fail to reject the null hypothesis(alpha = 0.1): No significant difference in mean Adverse Effects between Drug and Placebo groups.\n"
     ]
    }
   ],
   "source": [
    "adverse_effects_drug = drug_df[drug_df['trx'] == 'Drug']['adverse_effects']\n",
    "adverse_effects_placebo = drug_df[drug_df['trx'] == 'Placebo']['adverse_effects']\n",
    "\n",
    "t_stat, p_value = ttest_ind(adverse_effects_drug, adverse_effects_placebo, equal_var=False, alternative='two-sided')\n",
    "\n",
    "alpha_1 = 0.05\n",
    "alpha_2 = 0.1\n",
    "\n",
    "print(\"Adverse Effects results:\")\n",
    "print(\"t-statistic: \", t_stat)\n",
    "print(\"p-value: \", p_value)\n",
    "\n",
    "if p_value < alpha_1:\n",
    "    print(f\"Reject the null hypothesis(alpha = {alpha_1}): There is a significant difference in mean Adverse Effects between Drug and Placebo groups.\")\n",
    "else:\n",
    "    print(f\"Fail to reject the null hypothesis(alpha = {alpha_1}): No significant difference in mean Adverse Effects between Drug and Placebo groups.\")\n",
    "\n",
    "\n",
    "if p_value < alpha_2:\n",
    "    print(f\"Reject the null hypothesis(alpha = {alpha_2}): There is a significant difference in mean Adverse Effects between Drug and Placebo groups.\")\n",
    "else:\n",
    "    print(f\"Fail to reject the null hypothesis(alpha = {alpha_2}): No significant difference in mean Adverse Effects between Drug and Placebo groups.\")"
   ]
  },
  {
   "cell_type": "markdown",
   "metadata": {},
   "source": [
    "### significant level(alpha):\n",
    "The significance level represents the probability of making a Type I error (incorrectly rejecting the null hypothesis when it is true).\n",
    "\n",
    "A lower significance level (e.g., 0.05) is more stringent and reduces the chance of false positives but increases the chance of false negatives.\n",
    "\n",
    "A higher significance level (e.g., 0.1) is less stringent and increases the chance of detecting true effects but also increases the chance of false positives."
   ]
  },
  {
   "cell_type": "markdown",
   "metadata": {},
   "source": [
    "### alternative argument:\n",
    "The alternative argument specifies the type of alternative hypothesis being tested. It can take one of three values:\n",
    "\n",
    "- 'two-sided': Tests whether the means are not equal (default).\n",
    "\n",
    "- 'greater': Tests whether the mean of the first group is greater than the mean of the second group.\n",
    "\n",
    "- 'less': Tests whether the mean of the first group is less than the mean of the second group.\n",
    "\n",
    "because we are talking about is there any difference (either higher or lower) between the Drug and Placebo groups we use 'two-sided'\n",
    "because our $H_a$ shows the unequality between their means."
   ]
  },
  {
   "cell_type": "markdown",
   "metadata": {},
   "source": [
    "### equal argument:\n",
    "\n",
    "The equal_var argument specifies whether to assume that the two groups have equal variances.\n",
    "\n",
    "It can take two values:\n",
    "\n",
    "True: Assumes equal variances (standard t-test).\n",
    "\n",
    "False: Does not assume equal variances (Welch's t-test).\n",
    "\n",
    "In this case we use the equal_var = False because we dont have an idea about their variances .This is especially important when the sample sizes or variances of the two groups are different."
   ]
  },
  {
   "cell_type": "markdown",
   "metadata": {},
   "source": []
  }
 ],
 "metadata": {
  "kernelspec": {
   "display_name": "base",
   "language": "python",
   "name": "python3"
  },
  "language_info": {
   "codemirror_mode": {
    "name": "ipython",
    "version": 3
   },
   "file_extension": ".py",
   "mimetype": "text/x-python",
   "name": "python",
   "nbconvert_exporter": "python",
   "pygments_lexer": "ipython3",
   "version": "undefined.undefined.undefined"
  }
 },
 "nbformat": 4,
 "nbformat_minor": 2
}
