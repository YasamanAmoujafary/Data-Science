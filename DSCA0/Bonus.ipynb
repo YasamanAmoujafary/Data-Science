{
 "cells": [
  {
   "cell_type": "markdown",
   "metadata": {},
   "source": [
    "# Bonus"
   ]
  },
  {
   "cell_type": "markdown",
   "metadata": {},
   "source": [
    "The answer is the second sentence and these are the reasons:\n",
    "\n",
    "- 1) A CI is not constructed to estimate a sample mean (𝑋̄), but rather to infer the true population mean\n",
    "- 3) A confidence interval does not describe the range of individual data points but rather the range of the true mean \n",
    "- 4) A confidence interval estimates a population mean, not a range for individual observations\n",
    "\n",
    "Option 2: \"To estimate the true average pressure of the pipeline and give ourselves some room for error in the estimate.\" is completely True"
   ]
  }
 ],
 "metadata": {
  "language_info": {
   "name": "python"
  }
 },
 "nbformat": 4,
 "nbformat_minor": 2
}
